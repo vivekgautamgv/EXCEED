{
 "cells": [
  {
   "cell_type": "code",
   "execution_count": 37,
   "metadata": {},
   "outputs": [
    {
     "name": "stdout",
     "output_type": "stream",
     "text": [
      "Sun Jan 26 01:46:55 2025       \n",
      "+-----------------------------------------------------------------------------------------+\n",
      "| NVIDIA-SMI 555.94                 Driver Version: 555.94         CUDA Version: 12.5     |\n",
      "|-----------------------------------------+------------------------+----------------------+\n",
      "| GPU  Name                  Driver-Model | Bus-Id          Disp.A | Volatile Uncorr. ECC |\n",
      "| Fan  Temp   Perf          Pwr:Usage/Cap |           Memory-Usage | GPU-Util  Compute M. |\n",
      "|                                         |                        |               MIG M. |\n",
      "|=========================================+========================+======================|\n",
      "|   0  NVIDIA GeForce RTX 3050 ...  WDDM  |   00000000:01:00.0 Off |                  N/A |\n",
      "| N/A   47C    P0              8W /   95W |     265MiB /   6144MiB |     10%      Default |\n",
      "|                                         |                        |                  N/A |\n",
      "+-----------------------------------------+------------------------+----------------------+\n",
      "                                                                                         \n",
      "+-----------------------------------------------------------------------------------------+\n",
      "| Processes:                                                                              |\n",
      "|  GPU   GI   CI        PID   Type   Process name                              GPU Memory |\n",
      "|        ID   ID                                                               Usage      |\n",
      "|=========================================================================================|\n",
      "|    0   N/A  N/A      3280    C+G   ...40.0_x64__v10z8vjag6ke6\\HP.myHP.exe      N/A      |\n",
      "|    0   N/A  N/A      5040    C+G   ...5.0_x64__cv1g1gvanyjgm\\WhatsApp.exe      N/A      |\n",
      "|    0   N/A  N/A      9980    C+G   ...tudio-ui\\LightStudio-background.exe      N/A      |\n",
      "|    0   N/A  N/A     14864    C+G   ...werToys\\PowerToys.PowerLauncher.exe      N/A      |\n",
      "|    0   N/A  N/A     15016    C+G   ...nt.CBS_cw5n1h2txyewy\\SearchHost.exe      N/A      |\n",
      "|    0   N/A  N/A     19700    C+G   ...t.LockApp_cw5n1h2txyewy\\LockApp.exe      N/A      |\n",
      "|    0   N/A  N/A     21808    C+G   ...Programs\\Microsoft VS Code\\Code.exe      N/A      |\n",
      "|    0   N/A  N/A     23536    C+G   ...ekyb3d8bbwe\\PhoneExperienceHost.exe      N/A      |\n",
      "|    0   N/A  N/A     24428    C+G   ....0_x64__8wekyb3d8bbwe\\XboxPcApp.exe      N/A      |\n",
      "|    0   N/A  N/A     26184    C+G   ...werToys\\PowerToys.ColorPickerUI.exe      N/A      |\n",
      "|    0   N/A  N/A     28632    C+G   ...\\Programs\\LNV\\Stremio-4\\stremio.exe      N/A      |\n",
      "+-----------------------------------------------------------------------------------------+\n"
     ]
    }
   ],
   "source": [
    "!nvidia-smi"
   ]
  },
  {
   "cell_type": "code",
   "execution_count": 38,
   "metadata": {},
   "outputs": [
    {
     "name": "stdout",
     "output_type": "stream",
     "text": [
      "hello worlkd!ds!!\n"
     ]
    }
   ],
   "source": [
    "print(\"hello worlkd!ds!!\")"
   ]
  },
  {
   "cell_type": "code",
   "execution_count": null,
   "metadata": {},
   "outputs": [],
   "source": [
    "!pip install ultralytics"
   ]
  },
  {
   "cell_type": "code",
   "execution_count": 39,
   "metadata": {},
   "outputs": [
    {
     "ename": "ModuleNotFoundError",
     "evalue": "No module named 'ultralytics'",
     "output_type": "error",
     "traceback": [
      "\u001b[1;31m---------------------------------------------------------------------------\u001b[0m",
      "\u001b[1;31mModuleNotFoundError\u001b[0m                       Traceback (most recent call last)",
      "Cell \u001b[1;32mIn[39], line 1\u001b[0m\n\u001b[1;32m----> 1\u001b[0m \u001b[38;5;28;01mimport\u001b[39;00m \u001b[38;5;21;01multralytics\u001b[39;00m\n",
      "\u001b[1;31mModuleNotFoundError\u001b[0m: No module named 'ultralytics'"
     ]
    }
   ],
   "source": [
    "import ultralytics\n"
   ]
  },
  {
   "cell_type": "code",
   "execution_count": 7,
   "metadata": {},
   "outputs": [
    {
     "name": "stdout",
     "output_type": "stream",
     "text": [
      "Requirement already satisfied: roboflow in c:\\users\\vivek\\appdata\\local\\programs\\python\\python313\\lib\\site-packages (1.1.51)\n",
      "Requirement already satisfied: certifi in c:\\users\\vivek\\appdata\\local\\programs\\python\\python313\\lib\\site-packages (from roboflow) (2024.12.14)\n",
      "Requirement already satisfied: idna==3.7 in c:\\users\\vivek\\appdata\\local\\programs\\python\\python313\\lib\\site-packages (from roboflow) (3.7)\n",
      "Requirement already satisfied: cycler in c:\\users\\vivek\\appdata\\local\\programs\\python\\python313\\lib\\site-packages (from roboflow) (0.12.1)\n",
      "Requirement already satisfied: kiwisolver>=1.3.1 in c:\\users\\vivek\\appdata\\local\\programs\\python\\python313\\lib\\site-packages (from roboflow) (1.4.8)\n",
      "Requirement already satisfied: matplotlib in c:\\users\\vivek\\appdata\\local\\programs\\python\\python313\\lib\\site-packages (from roboflow) (3.10.0)\n",
      "Requirement already satisfied: numpy>=1.18.5 in c:\\users\\vivek\\appdata\\local\\programs\\python\\python313\\lib\\site-packages (from roboflow) (2.2.1)\n",
      "Requirement already satisfied: opencv-python-headless==4.10.0.84 in c:\\users\\vivek\\appdata\\local\\programs\\python\\python313\\lib\\site-packages (from roboflow) (4.10.0.84)\n",
      "Requirement already satisfied: Pillow>=7.1.2 in c:\\users\\vivek\\appdata\\local\\programs\\python\\python313\\lib\\site-packages (from roboflow) (11.1.0)\n",
      "Requirement already satisfied: python-dateutil in c:\\users\\vivek\\appdata\\roaming\\python\\python313\\site-packages (from roboflow) (2.9.0.post0)\n",
      "Requirement already satisfied: python-dotenv in c:\\users\\vivek\\appdata\\local\\programs\\python\\python313\\lib\\site-packages (from roboflow) (1.0.1)\n",
      "Requirement already satisfied: requests in c:\\users\\vivek\\appdata\\local\\programs\\python\\python313\\lib\\site-packages (from roboflow) (2.32.3)\n",
      "Requirement already satisfied: six in c:\\users\\vivek\\appdata\\roaming\\python\\python313\\site-packages (from roboflow) (1.17.0)\n",
      "Requirement already satisfied: urllib3>=1.26.6 in c:\\users\\vivek\\appdata\\local\\programs\\python\\python313\\lib\\site-packages (from roboflow) (2.3.0)\n",
      "Requirement already satisfied: tqdm>=4.41.0 in c:\\users\\vivek\\appdata\\local\\programs\\python\\python313\\lib\\site-packages (from roboflow) (4.67.1)\n",
      "Requirement already satisfied: PyYAML>=5.3.1 in c:\\users\\vivek\\appdata\\local\\programs\\python\\python313\\lib\\site-packages (from roboflow) (6.0.2)\n",
      "Requirement already satisfied: requests-toolbelt in c:\\users\\vivek\\appdata\\local\\programs\\python\\python313\\lib\\site-packages (from roboflow) (1.0.0)\n",
      "Requirement already satisfied: filetype in c:\\users\\vivek\\appdata\\local\\programs\\python\\python313\\lib\\site-packages (from roboflow) (1.2.0)\n",
      "Requirement already satisfied: colorama in c:\\users\\vivek\\appdata\\roaming\\python\\python313\\site-packages (from tqdm>=4.41.0->roboflow) (0.4.6)\n",
      "Requirement already satisfied: contourpy>=1.0.1 in c:\\users\\vivek\\appdata\\local\\programs\\python\\python313\\lib\\site-packages (from matplotlib->roboflow) (1.3.1)\n",
      "Requirement already satisfied: fonttools>=4.22.0 in c:\\users\\vivek\\appdata\\local\\programs\\python\\python313\\lib\\site-packages (from matplotlib->roboflow) (4.55.3)\n",
      "Requirement already satisfied: packaging>=20.0 in c:\\users\\vivek\\appdata\\roaming\\python\\python313\\site-packages (from matplotlib->roboflow) (24.2)\n",
      "Requirement already satisfied: pyparsing>=2.3.1 in c:\\users\\vivek\\appdata\\local\\programs\\python\\python313\\lib\\site-packages (from matplotlib->roboflow) (3.2.1)\n",
      "Requirement already satisfied: charset-normalizer<4,>=2 in c:\\users\\vivek\\appdata\\local\\programs\\python\\python313\\lib\\site-packages (from requests->roboflow) (3.4.1)\n"
     ]
    }
   ],
   "source": [
    "!pip install roboflow"
   ]
  },
  {
   "cell_type": "code",
   "execution_count": 1,
   "metadata": {},
   "outputs": [
    {
     "name": "stdout",
     "output_type": "stream",
     "text": [
      "Collecting roboflow\n",
      "  Downloading roboflow-1.1.51-py3-none-any.whl.metadata (9.7 kB)\n",
      "Requirement already satisfied: certifi in c:\\users\\vivek\\appdata\\local\\programs\\python\\python313\\lib\\site-packages (from roboflow) (2024.12.14)\n",
      "Collecting idna==3.7 (from roboflow)\n",
      "  Downloading idna-3.7-py3-none-any.whl.metadata (9.9 kB)\n",
      "Requirement already satisfied: cycler in c:\\users\\vivek\\appdata\\local\\programs\\python\\python313\\lib\\site-packages (from roboflow) (0.12.1)\n",
      "Requirement already satisfied: kiwisolver>=1.3.1 in c:\\users\\vivek\\appdata\\local\\programs\\python\\python313\\lib\\site-packages (from roboflow) (1.4.8)\n",
      "Requirement already satisfied: matplotlib in c:\\users\\vivek\\appdata\\local\\programs\\python\\python313\\lib\\site-packages (from roboflow) (3.10.0)\n",
      "Requirement already satisfied: numpy>=1.18.5 in c:\\users\\vivek\\appdata\\local\\programs\\python\\python313\\lib\\site-packages (from roboflow) (2.2.1)\n",
      "Collecting opencv-python-headless==4.10.0.84 (from roboflow)\n",
      "  Downloading opencv_python_headless-4.10.0.84-cp37-abi3-win_amd64.whl.metadata (20 kB)\n",
      "Requirement already satisfied: Pillow>=7.1.2 in c:\\users\\vivek\\appdata\\local\\programs\\python\\python313\\lib\\site-packages (from roboflow) (11.1.0)\n",
      "Requirement already satisfied: python-dateutil in c:\\users\\vivek\\appdata\\roaming\\python\\python313\\site-packages (from roboflow) (2.9.0.post0)\n",
      "Requirement already satisfied: python-dotenv in c:\\users\\vivek\\appdata\\local\\programs\\python\\python313\\lib\\site-packages (from roboflow) (1.0.1)\n",
      "Requirement already satisfied: requests in c:\\users\\vivek\\appdata\\local\\programs\\python\\python313\\lib\\site-packages (from roboflow) (2.32.3)\n",
      "Requirement already satisfied: six in c:\\users\\vivek\\appdata\\roaming\\python\\python313\\site-packages (from roboflow) (1.17.0)\n",
      "Requirement already satisfied: urllib3>=1.26.6 in c:\\users\\vivek\\appdata\\local\\programs\\python\\python313\\lib\\site-packages (from roboflow) (2.3.0)\n",
      "Requirement already satisfied: tqdm>=4.41.0 in c:\\users\\vivek\\appdata\\local\\programs\\python\\python313\\lib\\site-packages (from roboflow) (4.67.1)\n",
      "Requirement already satisfied: PyYAML>=5.3.1 in c:\\users\\vivek\\appdata\\local\\programs\\python\\python313\\lib\\site-packages (from roboflow) (6.0.2)\n",
      "Requirement already satisfied: requests-toolbelt in c:\\users\\vivek\\appdata\\local\\programs\\python\\python313\\lib\\site-packages (from roboflow) (1.0.0)\n",
      "Collecting filetype (from roboflow)\n",
      "  Downloading filetype-1.2.0-py2.py3-none-any.whl.metadata (6.5 kB)\n",
      "Requirement already satisfied: colorama in c:\\users\\vivek\\appdata\\roaming\\python\\python313\\site-packages (from tqdm>=4.41.0->roboflow) (0.4.6)\n",
      "Requirement already satisfied: contourpy>=1.0.1 in c:\\users\\vivek\\appdata\\local\\programs\\python\\python313\\lib\\site-packages (from matplotlib->roboflow) (1.3.1)\n",
      "Requirement already satisfied: fonttools>=4.22.0 in c:\\users\\vivek\\appdata\\local\\programs\\python\\python313\\lib\\site-packages (from matplotlib->roboflow) (4.55.3)\n",
      "Requirement already satisfied: packaging>=20.0 in c:\\users\\vivek\\appdata\\roaming\\python\\python313\\site-packages (from matplotlib->roboflow) (24.2)\n",
      "Requirement already satisfied: pyparsing>=2.3.1 in c:\\users\\vivek\\appdata\\local\\programs\\python\\python313\\lib\\site-packages (from matplotlib->roboflow) (3.2.1)\n",
      "Requirement already satisfied: charset-normalizer<4,>=2 in c:\\users\\vivek\\appdata\\local\\programs\\python\\python313\\lib\\site-packages (from requests->roboflow) (3.4.1)\n",
      "Downloading roboflow-1.1.51-py3-none-any.whl (81 kB)\n",
      "Downloading idna-3.7-py3-none-any.whl (66 kB)\n",
      "Downloading opencv_python_headless-4.10.0.84-cp37-abi3-win_amd64.whl (38.8 MB)\n",
      "   ---------------------------------------- 0.0/38.8 MB ? eta -:--:--\n",
      "   ---------------------------------------- 0.0/38.8 MB ? eta -:--:--\n",
      "   ---------------------------------------- 0.3/38.8 MB ? eta -:--:--\n",
      "    --------------------------------------- 0.8/38.8 MB 2.1 MB/s eta 0:00:19\n",
      "   - -------------------------------------- 1.0/38.8 MB 2.0 MB/s eta 0:00:19\n",
      "   - -------------------------------------- 1.3/38.8 MB 2.0 MB/s eta 0:00:20\n",
      "   - -------------------------------------- 1.3/38.8 MB 2.0 MB/s eta 0:00:20\n",
      "   - -------------------------------------- 1.3/38.8 MB 2.0 MB/s eta 0:00:20\n",
      "   - -------------------------------------- 1.6/38.8 MB 1.1 MB/s eta 0:00:36\n",
      "   - -------------------------------------- 1.8/38.8 MB 1.1 MB/s eta 0:00:33\n",
      "   - -------------------------------------- 1.8/38.8 MB 1.1 MB/s eta 0:00:33\n",
      "   -- ------------------------------------- 2.9/38.8 MB 1.4 MB/s eta 0:00:26\n",
      "   -- ------------------------------------- 2.9/38.8 MB 1.4 MB/s eta 0:00:26\n",
      "   -- ------------------------------------- 2.9/38.8 MB 1.4 MB/s eta 0:00:26\n",
      "   -- ------------------------------------- 2.9/38.8 MB 1.4 MB/s eta 0:00:26\n",
      "   -- ------------------------------------- 2.9/38.8 MB 1.4 MB/s eta 0:00:26\n",
      "   -- ------------------------------------- 2.9/38.8 MB 1.4 MB/s eta 0:00:26\n",
      "   -- ------------------------------------- 2.9/38.8 MB 1.4 MB/s eta 0:00:26\n",
      "   -- ------------------------------------- 2.9/38.8 MB 1.4 MB/s eta 0:00:26\n",
      "   -- ------------------------------------- 2.9/38.8 MB 1.4 MB/s eta 0:00:26\n",
      "   -- ------------------------------------- 2.9/38.8 MB 1.4 MB/s eta 0:00:26\n",
      "   -- ------------------------------------- 2.9/38.8 MB 1.4 MB/s eta 0:00:26\n",
      "   --- ------------------------------------ 3.4/38.8 MB 772.0 kB/s eta 0:00:46\n",
      "   --- ------------------------------------ 3.4/38.8 MB 772.0 kB/s eta 0:00:46\n",
      "   --- ------------------------------------ 3.7/38.8 MB 751.8 kB/s eta 0:00:47\n",
      "   ---- ----------------------------------- 3.9/38.8 MB 774.9 kB/s eta 0:00:45\n",
      "   ----- ---------------------------------- 5.0/38.8 MB 980.6 kB/s eta 0:00:35\n",
      "   ----- ---------------------------------- 5.2/38.8 MB 996.5 kB/s eta 0:00:34\n",
      "   ------ --------------------------------- 6.0/38.8 MB 1.1 MB/s eta 0:00:31\n",
      "   ------ --------------------------------- 6.3/38.8 MB 1.1 MB/s eta 0:00:30\n",
      "   ------- -------------------------------- 7.3/38.8 MB 1.2 MB/s eta 0:00:26\n",
      "   ------- -------------------------------- 7.6/38.8 MB 1.3 MB/s eta 0:00:25\n",
      "   -------- ------------------------------- 8.1/38.8 MB 1.3 MB/s eta 0:00:24\n",
      "   -------- ------------------------------- 8.1/38.8 MB 1.3 MB/s eta 0:00:24\n",
      "   --------- ------------------------------ 8.9/38.8 MB 1.3 MB/s eta 0:00:23\n",
      "   --------- ------------------------------ 9.2/38.8 MB 1.3 MB/s eta 0:00:23\n",
      "   ---------- ----------------------------- 9.7/38.8 MB 1.4 MB/s eta 0:00:22\n",
      "   ---------- ----------------------------- 10.2/38.8 MB 1.4 MB/s eta 0:00:21\n",
      "   ---------- ----------------------------- 10.5/38.8 MB 1.4 MB/s eta 0:00:21\n",
      "   ---------- ----------------------------- 10.5/38.8 MB 1.4 MB/s eta 0:00:21\n",
      "   ----------- ---------------------------- 11.3/38.8 MB 1.4 MB/s eta 0:00:20\n",
      "   ------------ --------------------------- 11.8/38.8 MB 1.5 MB/s eta 0:00:19\n",
      "   ------------ --------------------------- 12.3/38.8 MB 1.5 MB/s eta 0:00:18\n",
      "   ------------ --------------------------- 12.6/38.8 MB 1.5 MB/s eta 0:00:18\n",
      "   ------------ --------------------------- 12.6/38.8 MB 1.5 MB/s eta 0:00:18\n",
      "   ------------- -------------------------- 13.4/38.8 MB 1.5 MB/s eta 0:00:17\n",
      "   -------------- ------------------------- 14.2/38.8 MB 1.6 MB/s eta 0:00:16\n",
      "   -------------- ------------------------- 14.2/38.8 MB 1.6 MB/s eta 0:00:16\n",
      "   -------------- ------------------------- 14.2/38.8 MB 1.6 MB/s eta 0:00:16\n",
      "   -------------- ------------------------- 14.2/38.8 MB 1.6 MB/s eta 0:00:16\n",
      "   --------------- ------------------------ 14.9/38.8 MB 1.5 MB/s eta 0:00:16\n",
      "   --------------- ------------------------ 15.2/38.8 MB 1.5 MB/s eta 0:00:16\n",
      "   ---------------- ----------------------- 16.0/38.8 MB 1.5 MB/s eta 0:00:15\n",
      "   ---------------- ----------------------- 16.3/38.8 MB 1.5 MB/s eta 0:00:15\n",
      "   ----------------- ---------------------- 16.8/38.8 MB 1.6 MB/s eta 0:00:15\n",
      "   ----------------- ---------------------- 16.8/38.8 MB 1.6 MB/s eta 0:00:15\n",
      "   ----------------- ---------------------- 16.8/38.8 MB 1.6 MB/s eta 0:00:15\n",
      "   ----------------- ---------------------- 17.0/38.8 MB 1.5 MB/s eta 0:00:15\n",
      "   ----------------- ---------------------- 17.0/38.8 MB 1.5 MB/s eta 0:00:15\n",
      "   ----------------- ---------------------- 17.0/38.8 MB 1.5 MB/s eta 0:00:15\n",
      "   ------------------ --------------------- 18.1/38.8 MB 1.5 MB/s eta 0:00:14\n",
      "   ------------------- -------------------- 19.1/38.8 MB 1.6 MB/s eta 0:00:13\n",
      "   ------------------- -------------------- 19.1/38.8 MB 1.6 MB/s eta 0:00:13\n",
      "   ------------------- -------------------- 19.1/38.8 MB 1.6 MB/s eta 0:00:13\n",
      "   ------------------- -------------------- 19.1/38.8 MB 1.6 MB/s eta 0:00:13\n",
      "   ------------------- -------------------- 19.1/38.8 MB 1.6 MB/s eta 0:00:13\n",
      "   ------------------- -------------------- 19.1/38.8 MB 1.6 MB/s eta 0:00:13\n",
      "   ------------------- -------------------- 19.1/38.8 MB 1.6 MB/s eta 0:00:13\n",
      "   ------------------- -------------------- 19.1/38.8 MB 1.6 MB/s eta 0:00:13\n",
      "   ------------------- -------------------- 19.1/38.8 MB 1.6 MB/s eta 0:00:13\n",
      "   --------------------- ------------------ 20.4/38.8 MB 1.4 MB/s eta 0:00:13\n",
      "   --------------------- ------------------ 20.7/38.8 MB 1.5 MB/s eta 0:00:13\n",
      "   ---------------------- ----------------- 21.8/38.8 MB 1.5 MB/s eta 0:00:12\n",
      "   ---------------------- ----------------- 22.3/38.8 MB 1.5 MB/s eta 0:00:11\n",
      "   ----------------------- ---------------- 23.1/38.8 MB 1.5 MB/s eta 0:00:11\n",
      "   ----------------------- ---------------- 23.1/38.8 MB 1.5 MB/s eta 0:00:11\n",
      "   ----------------------- ---------------- 23.1/38.8 MB 1.5 MB/s eta 0:00:11\n",
      "   ----------------------- ---------------- 23.1/38.8 MB 1.5 MB/s eta 0:00:11\n",
      "   ------------------------ --------------- 23.3/38.8 MB 1.5 MB/s eta 0:00:11\n",
      "   ------------------------ --------------- 23.6/38.8 MB 1.5 MB/s eta 0:00:11\n",
      "   ------------------------- -------------- 24.4/38.8 MB 1.5 MB/s eta 0:00:10\n",
      "   --------------------------- ------------ 26.2/38.8 MB 1.6 MB/s eta 0:00:08\n",
      "   --------------------------- ------------ 26.2/38.8 MB 1.6 MB/s eta 0:00:08\n",
      "   --------------------------- ------------ 26.2/38.8 MB 1.6 MB/s eta 0:00:08\n",
      "   --------------------------- ------------ 26.2/38.8 MB 1.6 MB/s eta 0:00:08\n",
      "   --------------------------- ------------ 26.2/38.8 MB 1.6 MB/s eta 0:00:08\n",
      "   --------------------------- ------------ 26.2/38.8 MB 1.6 MB/s eta 0:00:08\n",
      "   --------------------------- ------------ 26.2/38.8 MB 1.6 MB/s eta 0:00:08\n",
      "   --------------------------- ------------ 26.2/38.8 MB 1.6 MB/s eta 0:00:08\n",
      "   --------------------------- ------------ 26.2/38.8 MB 1.6 MB/s eta 0:00:08\n",
      "   --------------------------- ------------ 26.2/38.8 MB 1.6 MB/s eta 0:00:08\n",
      "   --------------------------- ------------ 26.2/38.8 MB 1.6 MB/s eta 0:00:08\n",
      "   --------------------------- ------------ 26.2/38.8 MB 1.6 MB/s eta 0:00:08\n",
      "   --------------------------- ------------ 26.2/38.8 MB 1.6 MB/s eta 0:00:08\n",
      "   --------------------------- ------------ 26.2/38.8 MB 1.6 MB/s eta 0:00:08\n",
      "   --------------------------- ------------ 26.7/38.8 MB 1.4 MB/s eta 0:00:09\n",
      "   --------------------------- ------------ 26.7/38.8 MB 1.4 MB/s eta 0:00:09\n",
      "   --------------------------- ------------ 26.7/38.8 MB 1.4 MB/s eta 0:00:09\n",
      "   ---------------------------- ----------- 27.5/38.8 MB 1.4 MB/s eta 0:00:09\n",
      "   ---------------------------- ----------- 27.5/38.8 MB 1.4 MB/s eta 0:00:09\n",
      "   ---------------------------- ----------- 27.5/38.8 MB 1.4 MB/s eta 0:00:09\n",
      "   ----------------------------- ---------- 28.8/38.8 MB 1.4 MB/s eta 0:00:08\n",
      "   ----------------------------- ---------- 28.8/38.8 MB 1.4 MB/s eta 0:00:08\n",
      "   ----------------------------- ---------- 28.8/38.8 MB 1.4 MB/s eta 0:00:08\n",
      "   ----------------------------- ---------- 28.8/38.8 MB 1.4 MB/s eta 0:00:08\n",
      "   ------------------------------ --------- 29.9/38.8 MB 1.4 MB/s eta 0:00:07\n",
      "   ------------------------------- -------- 30.1/38.8 MB 1.4 MB/s eta 0:00:07\n",
      "   ------------------------------- -------- 30.1/38.8 MB 1.4 MB/s eta 0:00:07\n",
      "   ------------------------------- -------- 30.4/38.8 MB 1.4 MB/s eta 0:00:07\n",
      "   ------------------------------- -------- 30.7/38.8 MB 1.4 MB/s eta 0:00:06\n",
      "   ------------------------------- -------- 30.7/38.8 MB 1.4 MB/s eta 0:00:06\n",
      "   ------------------------------- -------- 30.7/38.8 MB 1.4 MB/s eta 0:00:06\n",
      "   ------------------------------- -------- 30.7/38.8 MB 1.4 MB/s eta 0:00:06\n",
      "   --------------------------------- ------ 32.5/38.8 MB 1.4 MB/s eta 0:00:05\n",
      "   --------------------------------- ------ 32.5/38.8 MB 1.4 MB/s eta 0:00:05\n",
      "   ---------------------------------- ----- 33.6/38.8 MB 1.4 MB/s eta 0:00:04\n",
      "   ---------------------------------- ----- 33.6/38.8 MB 1.4 MB/s eta 0:00:04\n",
      "   ----------------------------------- ---- 34.3/38.8 MB 1.4 MB/s eta 0:00:04\n",
      "   ------------------------------------- -- 35.9/38.8 MB 1.5 MB/s eta 0:00:02\n",
      "   ------------------------------------- -- 36.4/38.8 MB 1.5 MB/s eta 0:00:02\n",
      "   ------------------------------------- -- 36.4/38.8 MB 1.5 MB/s eta 0:00:02\n",
      "   -------------------------------------- - 37.2/38.8 MB 1.5 MB/s eta 0:00:02\n",
      "   ---------------------------------------  38.0/38.8 MB 1.5 MB/s eta 0:00:01\n",
      "   ---------------------------------------- 38.8/38.8 MB 1.5 MB/s eta 0:00:00\n",
      "Downloading filetype-1.2.0-py2.py3-none-any.whl (19 kB)\n",
      "Installing collected packages: filetype, opencv-python-headless, idna, roboflow\n",
      "  Attempting uninstall: idna\n",
      "    Found existing installation: idna 3.10\n",
      "    Uninstalling idna-3.10:\n",
      "      Successfully uninstalled idna-3.10\n",
      "Successfully installed filetype-1.2.0 idna-3.7 opencv-python-headless-4.10.0.84 roboflow-1.1.51\n",
      "loading Roboflow workspace...\n",
      "loading Roboflow project...\n"
     ]
    },
    {
     "name": "stderr",
     "output_type": "stream",
     "text": [
      "Downloading Dataset Version Zip in Dataset-for-Detecting-Obstacles-on-Railways-2 to yolov11:: 100%|██████████| 1189409/1189409 [14:18<00:00, 1384.84it/s]"
     ]
    },
    {
     "name": "stdout",
     "output_type": "stream",
     "text": [
      "\n"
     ]
    },
    {
     "name": "stderr",
     "output_type": "stream",
     "text": [
      "\n",
      "Extracting Dataset Version Zip to Dataset-for-Detecting-Obstacles-on-Railways-2 in yolov11:: 100%|██████████| 3372/3372 [00:03<00:00, 1007.27it/s]\n"
     ]
    }
   ],
   "source": [
    "!pip install roboflow\n",
    "\n",
    "from roboflow import Roboflow\n",
    "rf = Roboflow(api_key=\"eiESuKS5Yz7zKQnhnycT\")\n",
    "project = rf.workspace(\"viveks-dan\").project(\"dataset-for-detecting-obstacles-on-railways-dogeu\")\n",
    "version = project.version(2)\n",
    "dataset = version.download(\"yolov11\")\n",
    "                "
   ]
  },
  {
   "cell_type": "code",
   "execution_count": 36,
   "metadata": {},
   "outputs": [
    {
     "name": "stderr",
     "output_type": "stream",
     "text": [
      "'yolo' is not recognized as an internal or external command,\n",
      "operable program or batch file.\n"
     ]
    }
   ],
   "source": [
    "!yolo detect train data=/E:/EXCEED/Dataset-for-Detecting-Obstacles-on-Railways-2/data.yaml model = yolov11s.pt epochs = 80 images= 640"
   ]
  }
 ],
 "metadata": {
  "kernelspec": {
   "display_name": "Python 3",
   "language": "python",
   "name": "python3"
  },
  "language_info": {
   "codemirror_mode": {
    "name": "ipython",
    "version": 3
   },
   "file_extension": ".py",
   "mimetype": "text/x-python",
   "name": "python",
   "nbconvert_exporter": "python",
   "pygments_lexer": "ipython3",
   "version": "3.13.1"
  }
 },
 "nbformat": 4,
 "nbformat_minor": 2
}
