{
 "cells": [
  {
   "cell_type": "code",
   "execution_count": 1,
   "metadata": {},
   "outputs": [
    {
     "name": "stdout",
     "output_type": "stream",
     "text": [
      "hi\n"
     ]
    }
   ],
   "source": [
    "print(\"hi\")"
   ]
  },
  {
   "cell_type": "code",
   "execution_count": 2,
   "metadata": {},
   "outputs": [
    {
     "name": "stdout",
     "output_type": "stream",
     "text": [
      "Collecting roboflow\n",
      "  Downloading roboflow-1.1.51-py3-none-any.whl (81 kB)\n",
      "Collecting python-dotenv\n",
      "  Downloading python_dotenv-1.0.1-py3-none-any.whl (19 kB)\n",
      "Collecting idna==3.7\n",
      "  Downloading idna-3.7-py3-none-any.whl (66 kB)\n",
      "Requirement already satisfied: kiwisolver>=1.3.1 in c:\\users\\vivek\\appdata\\local\\programs\\python\\python310\\lib\\site-packages (from roboflow) (1.4.8)\n",
      "Requirement already satisfied: Pillow>=7.1.2 in c:\\users\\vivek\\appdata\\local\\programs\\python\\python310\\lib\\site-packages (from roboflow) (11.1.0)\n",
      "Requirement already satisfied: requests in c:\\users\\vivek\\appdata\\local\\programs\\python\\python310\\lib\\site-packages (from roboflow) (2.32.3)\n",
      "Requirement already satisfied: tqdm>=4.41.0 in c:\\users\\vivek\\appdata\\local\\programs\\python\\python310\\lib\\site-packages (from roboflow) (4.67.1)\n",
      "Requirement already satisfied: certifi in c:\\users\\vivek\\appdata\\local\\programs\\python\\python310\\lib\\site-packages (from roboflow) (2024.12.14)\n",
      "Collecting opencv-python-headless==4.10.0.84\n",
      "  Downloading opencv_python_headless-4.10.0.84-cp37-abi3-win_amd64.whl (38.8 MB)\n",
      "Requirement already satisfied: python-dateutil in c:\\users\\vivek\\appdata\\local\\programs\\python\\python310\\lib\\site-packages (from roboflow) (2.9.0.post0)\n",
      "Requirement already satisfied: matplotlib in c:\\users\\vivek\\appdata\\local\\programs\\python\\python310\\lib\\site-packages (from roboflow) (3.10.0)\n",
      "Requirement already satisfied: cycler in c:\\users\\vivek\\appdata\\local\\programs\\python\\python310\\lib\\site-packages (from roboflow) (0.12.1)\n",
      "Requirement already satisfied: six in c:\\users\\vivek\\appdata\\local\\programs\\python\\python310\\lib\\site-packages (from roboflow) (1.17.0)\n",
      "Requirement already satisfied: urllib3>=1.26.6 in c:\\users\\vivek\\appdata\\local\\programs\\python\\python310\\lib\\site-packages (from roboflow) (2.3.0)\n",
      "Requirement already satisfied: PyYAML>=5.3.1 in c:\\users\\vivek\\appdata\\local\\programs\\python\\python310\\lib\\site-packages (from roboflow) (6.0.2)\n",
      "Collecting filetype\n",
      "  Downloading filetype-1.2.0-py2.py3-none-any.whl (19 kB)\n",
      "Requirement already satisfied: numpy>=1.18.5 in c:\\users\\vivek\\appdata\\local\\programs\\python\\python310\\lib\\site-packages (from roboflow) (2.2.2)\n",
      "Collecting requests-toolbelt\n",
      "  Downloading requests_toolbelt-1.0.0-py2.py3-none-any.whl (54 kB)\n",
      "Requirement already satisfied: colorama in c:\\users\\vivek\\appdata\\local\\programs\\python\\python310\\lib\\site-packages (from tqdm>=4.41.0->roboflow) (0.4.6)\n",
      "Requirement already satisfied: pyparsing>=2.3.1 in c:\\users\\vivek\\appdata\\local\\programs\\python\\python310\\lib\\site-packages (from matplotlib->roboflow) (3.2.1)\n",
      "Requirement already satisfied: fonttools>=4.22.0 in c:\\users\\vivek\\appdata\\local\\programs\\python\\python310\\lib\\site-packages (from matplotlib->roboflow) (4.55.6)\n",
      "Requirement already satisfied: packaging>=20.0 in c:\\users\\vivek\\appdata\\local\\programs\\python\\python310\\lib\\site-packages (from matplotlib->roboflow) (24.2)\n",
      "Requirement already satisfied: contourpy>=1.0.1 in c:\\users\\vivek\\appdata\\local\\programs\\python\\python310\\lib\\site-packages (from matplotlib->roboflow) (1.3.1)\n",
      "Requirement already satisfied: charset-normalizer<4,>=2 in c:\\users\\vivek\\appdata\\local\\programs\\python\\python310\\lib\\site-packages (from requests->roboflow) (3.4.1)\n",
      "Installing collected packages: idna, requests-toolbelt, python-dotenv, opencv-python-headless, filetype, roboflow\n",
      "  Attempting uninstall: idna\n",
      "    Found existing installation: idna 3.10\n",
      "    Uninstalling idna-3.10:\n",
      "      Successfully uninstalled idna-3.10\n",
      "Successfully installed filetype-1.2.0 idna-3.7 opencv-python-headless-4.10.0.84 python-dotenv-1.0.1 requests-toolbelt-1.0.0 roboflow-1.1.51\n",
      "Note: you may need to restart the kernel to use updated packages.\n"
     ]
    },
    {
     "name": "stderr",
     "output_type": "stream",
     "text": [
      "WARNING: You are using pip version 21.2.3; however, version 25.0 is available.\n",
      "You should consider upgrading via the 'c:\\Users\\Vivek\\AppData\\Local\\Programs\\Python\\Python310\\python.exe -m pip install --upgrade pip' command.\n"
     ]
    }
   ],
   "source": [
    "pip install roboflow\n"
   ]
  },
  {
   "cell_type": "code",
   "execution_count": 3,
   "metadata": {},
   "outputs": [
    {
     "name": "stdout",
     "output_type": "stream",
     "text": [
      "loading Roboflow workspace...\n",
      "loading Roboflow project...\n"
     ]
    }
   ],
   "source": [
    "from roboflow import Roboflow\n",
    "rf = Roboflow(api_key=\"eiESuKS5Yz7zKQnhnycT\")\n",
    "project = rf.workspace(\"viveks-dan\").project(\"dataset-for-detecting-obstacles-on-railways-dogeu\")\n",
    "version = project.version(2)\n",
    "dataset = version.download(\"yolov11\")\n"
   ]
  }
 ],
 "metadata": {
  "kernelspec": {
   "display_name": "Python 3",
   "language": "python",
   "name": "python3"
  },
  "language_info": {
   "codemirror_mode": {
    "name": "ipython",
    "version": 3
   },
   "file_extension": ".py",
   "mimetype": "text/x-python",
   "name": "python",
   "nbconvert_exporter": "python",
   "pygments_lexer": "ipython3",
   "version": "3.10.0"
  }
 },
 "nbformat": 4,
 "nbformat_minor": 2
}
